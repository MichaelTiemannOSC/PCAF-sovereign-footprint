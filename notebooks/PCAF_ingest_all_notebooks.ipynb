{
 "cells": [
  {
   "cell_type": "code",
   "execution_count": null,
   "id": "14baab8a-0e92-476d-896a-8e86f7c4051c",
   "metadata": {},
   "outputs": [],
   "source": [
    "%run ./PCAF-init-requirements.ipynb"
   ]
  },
  {
   "cell_type": "code",
   "execution_count": null,
   "id": "282c8249-a154-49d9-a653-79aa6d9fda56",
   "metadata": {},
   "outputs": [],
   "source": [
    "%run ./WDI-GDP-ingest.ipynb"
   ]
  },
  {
   "cell_type": "code",
   "execution_count": null,
   "id": "210acbd1-213b-46fd-b44e-db87aef3800a",
   "metadata": {},
   "outputs": [],
   "source": [
    "%run ./UNFCCC-GHG-total-without-LULUCF.ipynb"
   ]
  },
  {
   "cell_type": "code",
   "execution_count": null,
   "id": "42c79734-5219-4f31-a299-bd6231d5d806",
   "metadata": {},
   "outputs": [],
   "source": [
    "%run ./UNFCCC-GHG-total-with-LULUCF.ipynb"
   ]
  },
  {
   "cell_type": "code",
   "execution_count": null,
   "id": "7feffe13-190b-460c-ae06-4c47cc01122e",
   "metadata": {},
   "outputs": [],
   "source": [
    "%run ./PRIMAP-ingest.ipynb"
   ]
  },
  {
   "cell_type": "code",
   "execution_count": null,
   "id": "692f321b-84d1-4a64-9f2c-c28d7a143f99",
   "metadata": {},
   "outputs": [],
   "source": [
    "#Calculate GHG Intensity per GDP, PPP\n",
    "%run ./calc_UNFCCC_sovereign_emissions.ipynb"
   ]
  },
  {
   "cell_type": "code",
   "execution_count": null,
   "id": "6dfc8ecb-d365-4153-967c-05224c6b0a4f",
   "metadata": {},
   "outputs": [],
   "source": [
    "%run ./OECD-IMGR-FCO2-ingest.ipynb"
   ]
  },
  {
   "cell_type": "code",
   "execution_count": null,
   "id": "04865e8d-9cc9-4758-8e6b-ed77dd8a8d6e",
   "metadata": {},
   "outputs": [],
   "source": [
    "%run ./OECD-EXGR-DCO2-ingest.ipynb"
   ]
  },
  {
   "cell_type": "code",
   "execution_count": null,
   "id": "767af5f1-cd71-4f37-812e-e440169443c9",
   "metadata": {},
   "outputs": [],
   "source": [
    "%run ./OECD-EXCH-ingest.ipynb"
   ]
  },
  {
   "cell_type": "code",
   "execution_count": null,
   "id": "8195fa35-3170-4d82-8ee6-f8e43a75449f",
   "metadata": {},
   "outputs": [],
   "source": [
    "%run ./WDI-Population-ingest.ipynb"
   ]
  },
  {
   "cell_type": "code",
   "execution_count": null,
   "id": "e62bb788-cc37-42e0-ad3f-f17c51aa6fdc",
   "metadata": {},
   "outputs": [],
   "source": []
  },
  {
   "cell_type": "code",
   "execution_count": null,
   "id": "ebe3c5a6-ff21-487a-8b7d-d5dc9ce736c2",
   "metadata": {},
   "outputs": [],
   "source": [
    "%run ./calc_total_sovereign_emissions.ipynb"
   ]
  },
  {
   "cell_type": "code",
   "execution_count": null,
   "id": "447f4270-332a-4e9d-9a13-b5aeb7cb31c0",
   "metadata": {},
   "outputs": [],
   "source": []
  },
  {
   "cell_type": "code",
   "execution_count": null,
   "id": "1f3c85b1-e1ff-41c6-a768-c5247838bb98",
   "metadata": {},
   "outputs": [],
   "source": []
  }
 ],
 "metadata": {
  "kernelspec": {
   "display_name": "Python 3 (ipykernel)",
   "language": "python",
   "name": "python3"
  },
  "language_info": {
   "codemirror_mode": {
    "name": "ipython",
    "version": 3
   },
   "file_extension": ".py",
   "mimetype": "text/x-python",
   "name": "python",
   "nbconvert_exporter": "python",
   "pygments_lexer": "ipython3",
   "version": "3.8.8"
  }
 },
 "nbformat": 4,
 "nbformat_minor": 5
}
