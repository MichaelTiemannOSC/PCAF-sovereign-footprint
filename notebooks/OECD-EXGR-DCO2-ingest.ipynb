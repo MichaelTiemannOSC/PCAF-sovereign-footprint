{
 "cells": [
  {
   "cell_type": "markdown",
   "id": "753c5386-c29c-40e7-be5e-08649f018ee6",
   "metadata": {},
   "source": [
    "<font size=\"5\">OECD CO2 emissions into Trino pipeline</font>"
   ]
  },
  {
   "cell_type": "markdown",
   "id": "9ea3c6bc-68ce-4fd4-9371-265268836a77",
   "metadata": {},
   "source": [
    "https://stats.oecd.org/Index.aspx?DataSetCode=IO_GHG_2019#\n"
   ]
  },
  {
   "cell_type": "code",
   "execution_count": 1,
   "id": "32b2bef2-3016-41ce-94ad-fee44289de83",
   "metadata": {},
   "outputs": [],
   "source": [
    "from dotenv import dotenv_values, load_dotenv\n",
    "import osc_ingest_trino as osc\n",
    "import os\n",
    "import pathlib\n",
    "dotenv_dir = os.environ.get('CREDENTIAL_DOTENV_DIR', os.environ.get('PWD', '/opt/app-root/src'))\n",
    "dotenv_path = pathlib.Path(dotenv_dir) / 'credentials.env'\n",
    "if os.path.exists(dotenv_path):\n",
    "    load_dotenv(dotenv_path=dotenv_path,override=True)"
   ]
  },
  {
   "cell_type": "code",
   "execution_count": 2,
   "id": "069122c2-1609-44fc-9dfa-8ba218443e3d",
   "metadata": {},
   "outputs": [],
   "source": [
    "# use a catalog that is configured for iceberg\n",
    "ingest_catalog = 'osc_datacommons_dev'\n",
    "ingest_schema = 'pcaf_sovereign_footprint'\n",
    "ingest_table = 'sf_oecd_exgr_dco2'"
   ]
  },
  {
   "cell_type": "code",
   "execution_count": 3,
   "id": "08e93fa5-0ee5-42f6-a7cd-05486f20f74e",
   "metadata": {},
   "outputs": [],
   "source": [
    "import trino\n",
    "from sqlalchemy.engine import create_engine\n",
    "\n",
    "env_var_prefix = 'TRINO'\n",
    "\n",
    "sqlstring = 'trino://{user}@{host}:{port}/'.format(\n",
    "    user = os.environ[f'{env_var_prefix}_USER'],\n",
    "    host = os.environ[f'{env_var_prefix}_HOST'],\n",
    "    port = os.environ[f'{env_var_prefix}_PORT']\n",
    ")\n",
    "sqlargs = {\n",
    "    'auth': trino.auth.JWTAuthentication(os.environ[f'{env_var_prefix}_PASSWD']),\n",
    "    'http_scheme': 'https',\n",
    "    'catalog': 'osc_datacommons_dev'\n",
    "}\n",
    "engine = create_engine(sqlstring, connect_args = sqlargs)\n",
    "connection = engine.connect()\n",
    "\n",
    "trino_bucket = osc.attach_s3_bucket(\"S3_DEV\")"
   ]
  },
  {
   "cell_type": "code",
   "execution_count": 4,
   "id": "32427c61-4905-4e42-b6f3-196be697cca5",
   "metadata": {},
   "outputs": [],
   "source": [
    "import boto3\n",
    "\n",
    "s3_source = boto3.resource(\n",
    "    service_name=\"s3\",\n",
    "    endpoint_url=os.environ['S3_LANDING_ENDPOINT'],\n",
    "    aws_access_key_id=os.environ['S3_LANDING_ACCESS_KEY'],\n",
    "    aws_secret_access_key=os.environ['S3_LANDING_SECRET_KEY'],\n",
    ")\n",
    "source_bucket = s3_source.Bucket(os.environ['S3_LANDING_BUCKET'])"
   ]
  },
  {
   "cell_type": "markdown",
   "id": "c3ea0d22-675e-4a2b-ab86-adf50e6e1e48",
   "metadata": {},
   "source": [
    "Open a Trino connection using JWT for authentication"
   ]
  },
  {
   "cell_type": "code",
   "execution_count": 5,
   "id": "ca2420a4-3d9f-49ba-9e10-f2544e66b71b",
   "metadata": {},
   "outputs": [],
   "source": [
    "# make sure schema exists, or table creation below will fail in weird ways\n",
    "sql = f\"\"\"\n",
    "create schema if not exists {ingest_catalog}.{ingest_schema}\n",
    "\"\"\"\n",
    "qres = engine.execute(sql)\n",
    "#print(qres.fetchall())"
   ]
  },
  {
   "cell_type": "code",
   "execution_count": 6,
   "id": "5e1600bb-66ae-4206-818e-000c5d336347",
   "metadata": {},
   "outputs": [
    {
     "name": "stdout",
     "output_type": "stream",
     "text": [
      "('aicoe_osc_demo_results',)\n",
      "('default',)\n",
      "('demo_dv',)\n",
      "('dera',)\n",
      "('essd',)\n",
      "('iceberg_demo',)\n",
      "('information_schema',)\n",
      "('ingest',)\n",
      "('mdt_sandbox',)\n",
      "('pcaf_sovereign_footprint',)\n",
      "('rmi',)\n",
      "('sandbox',)\n",
      "('wri_gppd',)\n"
     ]
    }
   ],
   "source": [
    "# Show available schemas to ensure trino connection is set correctly\n",
    "schema_read = engine.execute(f'show schemas in {ingest_catalog}')\n",
    "for row in schema_read.fetchall():\n",
    "    print(row)"
   ]
  },
  {
   "cell_type": "code",
   "execution_count": null,
   "id": "6543a521-d8d6-4222-9df5-8a8ab584a233",
   "metadata": {},
   "outputs": [],
   "source": []
  },
  {
   "cell_type": "markdown",
   "id": "1133b9e3-e31c-4c21-a5af-1025f245077e",
   "metadata": {},
   "source": [
    "#Load CO2 emissions file (updated from https://stats.oecd.org/Index.aspx)"
   ]
  },
  {
   "cell_type": "code",
   "execution_count": 7,
   "id": "2fb07a12-d0d2-4231-90b8-cb86e56bd44a",
   "metadata": {},
   "outputs": [
    {
     "ename": "NameError",
     "evalue": "name 'XXXXXXXXXX' is not defined",
     "output_type": "error",
     "traceback": [
      "\u001b[0;31m---------------------------------------------------------------------------\u001b[0m",
      "\u001b[0;31mNameError\u001b[0m                                 Traceback (most recent call last)",
      "Input \u001b[0;32mIn [7]\u001b[0m, in \u001b[0;36m<cell line: 11>\u001b[0;34m()\u001b[0m\n\u001b[1;32m      9\u001b[0m df \u001b[38;5;241m=\u001b[39mpd\u001b[38;5;241m.\u001b[39mread_csv(\u001b[38;5;124m'\u001b[39m\u001b[38;5;124mOECD-EXGR_DCO2.csv\u001b[39m\u001b[38;5;124m'\u001b[39m)\u001b[38;5;241m.\u001b[39mhead(\u001b[38;5;241m100\u001b[39m)\n\u001b[1;32m     10\u001b[0m df\u001b[38;5;241m.\u001b[39mto_csv(\u001b[38;5;124m'\u001b[39m\u001b[38;5;124mOECD-EXGR_DCO2.csv\u001b[39m\u001b[38;5;124m'\u001b[39m)\n\u001b[0;32m---> 11\u001b[0m \u001b[43mXXXXXXXXXX\u001b[49m\n\u001b[1;32m     13\u001b[0m df \u001b[38;5;241m=\u001b[39mpd\u001b[38;5;241m.\u001b[39mread_csv(\u001b[38;5;124mf\u001b[39m\u001b[38;5;124m'\u001b[39m\u001b[38;5;124m/tmp/EXGR_DCO2.csv\u001b[39m\u001b[38;5;124m'\u001b[39m)\n\u001b[1;32m     14\u001b[0m df\u001b[38;5;241m=\u001b[39m df[[\u001b[38;5;124m'\u001b[39m\u001b[38;5;124mIndicator\u001b[39m\u001b[38;5;124m'\u001b[39m,\u001b[38;5;124m'\u001b[39m\u001b[38;5;124mCOU\u001b[39m\u001b[38;5;124m'\u001b[39m,\u001b[38;5;124m'\u001b[39m\u001b[38;5;124mCountry\u001b[39m\u001b[38;5;124m'\u001b[39m,\u001b[38;5;124m'\u001b[39m\u001b[38;5;124mPAR\u001b[39m\u001b[38;5;124m'\u001b[39m,\u001b[38;5;124m'\u001b[39m\u001b[38;5;124mIND\u001b[39m\u001b[38;5;124m'\u001b[39m,\u001b[38;5;124m'\u001b[39m\u001b[38;5;124mIndustry\u001b[39m\u001b[38;5;124m'\u001b[39m,\u001b[38;5;124m'\u001b[39m\u001b[38;5;124mTIME\u001b[39m\u001b[38;5;124m'\u001b[39m,\u001b[38;5;124m'\u001b[39m\u001b[38;5;124mValue\u001b[39m\u001b[38;5;124m'\u001b[39m]]\n",
      "\u001b[0;31mNameError\u001b[0m: name 'XXXXXXXXXX' is not defined"
     ]
    }
   ],
   "source": [
    "import pandas as pd\n",
    "import csv\n",
    "import ParseXLS as parser\n",
    "\n",
    "\n",
    "oecd_file = s3_source.Object(os.environ['S3_LANDING_BUCKET'],'PCAF-sovereign-footprint/OECD/EXGR_DCO2.csv')\n",
    "oecd_file.download_file(f'/tmp/EXGR_DCO2.csv')\n",
    "\n",
    "df =pd.read_csv(f'/tmp/EXGR_DCO2.csv')\n",
    "df= df[['Indicator','COU','Country','PAR','IND','Industry','TIME','Value']]\n",
    "df=df.convert_dtypes()\n",
    "dict = {'Indicator': 'attribute',\n",
    "        'COU': 'country_iso_code',\n",
    "        'Country': 'country_name',\n",
    "        'PAR': 'partner_iso_code',\n",
    "        'IND': 'industry_code',\n",
    "        'Industry' : 'industry_name',\n",
    "        'TIME'   : 'validity_date',\n",
    "        'Value' : 'value' }\n",
    "\n",
    "df.rename(columns=dict,\n",
    "          inplace=True)\n",
    "df['value_units'] = 'Mt CO2'\n",
    "df\n"
   ]
  },
  {
   "cell_type": "code",
   "execution_count": null,
   "id": "5d2505a4-7b78-45fd-aa4e-555a80e023b5",
   "metadata": {},
   "outputs": [],
   "source": [
    "import osc_ingest_trino as osc\n",
    "df = df.convert_dtypes()\n",
    "columnschema = osc.create_table_schema_pairs(df) \n",
    "\n",
    "sql = f\"\"\"\n",
    "drop table if exists {ingest_catalog}.{ingest_schema}.{ingest_table}\n",
    "\"\"\"\n",
    "print(sql)\n",
    "qres = engine.execute(sql)\n",
    "#print(qres.fetchall())"
   ]
  },
  {
   "cell_type": "code",
   "execution_count": null,
   "id": "91781e62-2cbc-4a05-929c-17772c4c1404",
   "metadata": {},
   "outputs": [],
   "source": [
    "df.info(verbose=True)\n",
    "        \n",
    "        "
   ]
  },
  {
   "cell_type": "code",
   "execution_count": null,
   "id": "74d45044-1ea2-419a-aa71-32af9cf9b7ee",
   "metadata": {},
   "outputs": [],
   "source": [
    "df.to_sql(ingest_table,\n",
    "           con=engine,\n",
    "           schema=ingest_schema,\n",
    "           if_exists='append',\n",
    "           index=False,\n",
    "           method=osc.TrinoBatchInsert(batch_size = 5000, verbose = True))"
   ]
  },
  {
   "cell_type": "code",
   "execution_count": null,
   "id": "aea4e66d-eef4-492a-8ace-ca760940708b",
   "metadata": {},
   "outputs": [],
   "source": [
    "sql=f\"\"\"\n",
    "select * from {ingest_catalog}.{ingest_schema}.{ingest_table} where partner_iso_code='CAN'\"\"\"\n",
    "df = pd.read_sql(sql, engine)\n",
    "df\n",
    "#df.to_csv(\"exp.csv\",index=False,encoding='utf-8')"
   ]
  },
  {
   "cell_type": "code",
   "execution_count": null,
   "id": "bdda9017-4059-4264-b5ae-4e0a22d0969a",
   "metadata": {},
   "outputs": [],
   "source": []
  }
 ],
 "metadata": {
  "kernelspec": {
   "display_name": "Python 3 (ipykernel)",
   "language": "python",
   "name": "python3"
  },
  "language_info": {
   "codemirror_mode": {
    "name": "ipython",
    "version": 3
   },
   "file_extension": ".py",
   "mimetype": "text/x-python",
   "name": "python",
   "nbconvert_exporter": "python",
   "pygments_lexer": "ipython3",
   "version": "3.8.8"
  }
 },
 "nbformat": 4,
 "nbformat_minor": 5
}
