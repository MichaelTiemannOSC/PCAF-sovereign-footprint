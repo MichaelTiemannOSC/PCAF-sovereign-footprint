{
 "cells": [
  {
   "cell_type": "markdown",
   "id": "3c72a8b9-7816-49b6-8e99-7261db8f36d5",
   "metadata": {},
   "source": [
    "<font size=\"5\">Ingest Time Series - GHG total with LULUCF, in kt CO₂ equivalent into Trino pipeline</font>\n"
   ]
  },
  {
   "cell_type": "code",
   "execution_count": 1,
   "id": "5eda7d2a-f40d-430b-9549-24021eb5099b",
   "metadata": {},
   "outputs": [],
   "source": [
    "from dotenv import dotenv_values, load_dotenv\n",
    "import osc_ingest_trino as osc\n",
    "import os\n",
    "import pathlib"
   ]
  },
  {
   "cell_type": "markdown",
   "id": "ca39f16c-6cb3-4407-a56f-9fcedf33577d",
   "metadata": {},
   "source": [
    "Load Environment Variables"
   ]
  },
  {
   "cell_type": "code",
   "execution_count": 2,
   "id": "32b2bef2-3016-41ce-94ad-fee44289de83",
   "metadata": {},
   "outputs": [],
   "source": [
    "dotenv_dir = os.environ.get('CREDENTIAL_DOTENV_DIR', os.environ.get('PWD', '/opt/app-root/src'))\n",
    "dotenv_path = pathlib.Path(dotenv_dir) / 'credentials.env'\n",
    "if os.path.exists(dotenv_path):\n",
    "    load_dotenv(dotenv_path=dotenv_path,override=True)"
   ]
  },
  {
   "cell_type": "code",
   "execution_count": 3,
   "id": "069122c2-1609-44fc-9dfa-8ba218443e3d",
   "metadata": {},
   "outputs": [],
   "source": [
    "# use a catalog that is configured for iceberg\n",
    "ingest_catalog = 'osc_datacommons_dev'\n",
    "ingest_schema = 'pcaf_sovereign_footprint'\n",
    "ingest_table = 'sf_unfccc_with_lulucf'\n",
    "ingest_country_table ='sf_unfccc_countries'"
   ]
  },
  {
   "cell_type": "code",
   "execution_count": 4,
   "id": "08e93fa5-0ee5-42f6-a7cd-05486f20f74e",
   "metadata": {},
   "outputs": [],
   "source": [
    "import trino\n",
    "from sqlalchemy.engine import create_engine\n",
    "\n",
    "env_var_prefix = 'TRINO'\n",
    "\n",
    "sqlstring = 'trino://{user}@{host}:{port}/'.format(\n",
    "    user = os.environ[f'{env_var_prefix}_USER'],\n",
    "    host = os.environ[f'{env_var_prefix}_HOST'],\n",
    "    port = os.environ[f'{env_var_prefix}_PORT']\n",
    ")\n",
    "sqlargs = {\n",
    "    'auth': trino.auth.JWTAuthentication(os.environ[f'{env_var_prefix}_PASSWD']),\n",
    "    'http_scheme': 'https',\n",
    "    'catalog': 'osc_datacommons_dev'\n",
    "}\n",
    "engine = create_engine(sqlstring, connect_args = sqlargs)\n",
    "connection = engine.connect()\n",
    "\n",
    "trino_bucket = osc.attach_s3_bucket(\"S3_DEV\")"
   ]
  },
  {
   "cell_type": "code",
   "execution_count": 5,
   "id": "32427c61-4905-4e42-b6f3-196be697cca5",
   "metadata": {},
   "outputs": [],
   "source": [
    "import boto3\n",
    "\n",
    "s3_source = boto3.resource(\n",
    "    service_name=\"s3\",\n",
    "    endpoint_url=os.environ['S3_LANDING_ENDPOINT'],\n",
    "    aws_access_key_id=os.environ['S3_LANDING_ACCESS_KEY'],\n",
    "    aws_secret_access_key=os.environ['S3_LANDING_SECRET_KEY'],\n",
    ")\n",
    "source_bucket = s3_source.Bucket(os.environ['S3_LANDING_BUCKET'])"
   ]
  },
  {
   "cell_type": "markdown",
   "id": "87a28a14-e494-4d85-b910-5826070352e8",
   "metadata": {},
   "source": [
    "Open a Trino connection using JWT for authentication"
   ]
  },
  {
   "cell_type": "code",
   "execution_count": null,
   "id": "ca2420a4-3d9f-49ba-9e10-f2544e66b71b",
   "metadata": {},
   "outputs": [],
   "source": []
  },
  {
   "cell_type": "code",
   "execution_count": 6,
   "id": "5e1600bb-66ae-4206-818e-000c5d336347",
   "metadata": {},
   "outputs": [
    {
     "name": "stdout",
     "output_type": "stream",
     "text": [
      "('aicoe_osc_demo_results',)\n",
      "('default',)\n",
      "('demo_dv',)\n",
      "('dera',)\n",
      "('essd',)\n",
      "('iceberg_demo',)\n",
      "('information_schema',)\n",
      "('ingest',)\n",
      "('mdt_sandbox',)\n",
      "('pcaf_sovereign_footprint',)\n",
      "('rmi',)\n",
      "('sandbox',)\n",
      "('wri_gppd',)\n"
     ]
    }
   ],
   "source": [
    "# Show available schemas to ensure trino connection is set correctly\n",
    "schema_read = engine.execute(f'show schemas in {ingest_catalog}')\n",
    "for row in schema_read.fetchall():\n",
    "    print(row)"
   ]
  },
  {
   "cell_type": "code",
   "execution_count": 7,
   "id": "6543a521-d8d6-4222-9df5-8a8ab584a233",
   "metadata": {},
   "outputs": [
    {
     "name": "stdout",
     "output_type": "stream",
     "text": [
      "Requirement already satisfied: country_converter in /opt/app-root/lib/python3.8/site-packages (1.0.0)\n",
      "Requirement already satisfied: pandas>=1.0 in /opt/app-root/lib/python3.8/site-packages (from country_converter) (1.5.3)\n",
      "Requirement already satisfied: pytz>=2020.1 in /opt/app-root/lib/python3.8/site-packages (from pandas>=1.0->country_converter) (2022.1)\n",
      "Requirement already satisfied: numpy>=1.20.3 in /opt/app-root/lib/python3.8/site-packages (from pandas>=1.0->country_converter) (1.24.2)\n",
      "Requirement already satisfied: python-dateutil>=2.8.1 in /opt/app-root/lib/python3.8/site-packages (from pandas>=1.0->country_converter) (2.8.2)\n",
      "Requirement already satisfied: six>=1.5 in /opt/app-root/lib/python3.8/site-packages (from python-dateutil>=2.8.1->pandas>=1.0->country_converter) (1.16.0)\n",
      "\n",
      "\u001b[1m[\u001b[0m\u001b[34;49mnotice\u001b[0m\u001b[1;39;49m]\u001b[0m\u001b[39;49m A new release of pip available: \u001b[0m\u001b[31;49m22.2.2\u001b[0m\u001b[39;49m -> \u001b[0m\u001b[32;49m23.0.1\u001b[0m\n",
      "\u001b[1m[\u001b[0m\u001b[34;49mnotice\u001b[0m\u001b[1;39;49m]\u001b[0m\u001b[39;49m To update, run: \u001b[0m\u001b[32;49mpip install --upgrade pip\u001b[0m\n",
      "Note: you may need to restart the kernel to use updated packages.\n"
     ]
    }
   ],
   "source": [
    "pip install country_converter --upgrade"
   ]
  },
  {
   "cell_type": "markdown",
   "id": "51cd8f12-cdb8-4036-9474-28de3182365d",
   "metadata": {},
   "source": [
    "Load PCAF_UNFCC_WITH_LULUCF"
   ]
  },
  {
   "cell_type": "code",
   "execution_count": 8,
   "id": "2fb07a12-d0d2-4231-90b8-cb86e56bd44a",
   "metadata": {},
   "outputs": [
    {
     "name": "stdout",
     "output_type": "stream",
     "text": [
      "UNFCCC_with_LULUCF.ini\n",
      "file_list:\n",
      "['/tmp/Time_Series_GHG_total_with_LULUCF_in_kt_CO₂_equivalent.xlsx']\n",
      "/tmp/Time_Series_GHG_total_with_LULUCF_in_kt_CO₂_equivalent.xlsx\n",
      "2\n",
      "xls\n",
      "/tmp/Time_Series_GHG_total_with_LULUCF_in_kt_CO₂_equivalen\n",
      "<configparser.ConfigParser object at 0x7f48a0c1ce20>\n",
      "['0', '2']\n",
      "UNFCCC_with_LULUCF_other.ini\n",
      "file_list:\n",
      "['/tmp/Annual_Net_emissions_removals_in_Gg_CO₂_equivalent_incl_LULUCF.csv']\n",
      "/tmp/Annual_Net_emissions_removals_in_Gg_CO₂_equivalent_incl_LULUCF.csv\n",
      "2\n",
      "csv\n",
      "/tmp/Annual_Net_emissions_removals_in_Gg_CO₂_equivalent_incl_LULUC\n",
      "<configparser.ConfigParser object at 0x7f48a0c09a00>\n"
     ]
    },
    {
     "ename": "NameError",
     "evalue": "name 'XXXXXXX' is not defined",
     "output_type": "error",
     "traceback": [
      "\u001b[0;31m---------------------------------------------------------------------------\u001b[0m",
      "\u001b[0;31mNameError\u001b[0m                                 Traceback (most recent call last)",
      "Input \u001b[0;32mIn [8]\u001b[0m, in \u001b[0;36m<cell line: 18>\u001b[0;34m()\u001b[0m\n\u001b[1;32m     16\u001b[0m df2 \u001b[38;5;241m=\u001b[39m parser\u001b[38;5;241m.\u001b[39mprocess(\u001b[38;5;124m'\u001b[39m\u001b[38;5;124mUNFCCC_with_LULUCF_other.ini\u001b[39m\u001b[38;5;124m'\u001b[39m,\u001b[38;5;124m'\u001b[39m\u001b[38;5;124mUNFCCC_with_LULUCF_other.csv\u001b[39m\u001b[38;5;124m'\u001b[39m) \n\u001b[1;32m     17\u001b[0m df2\u001b[38;5;241m.\u001b[39mto_csv(\u001b[38;5;124m'\u001b[39m\u001b[38;5;124mUNFCCC-Annual_Net_emissions_removals_in_Gg_CO₂_equivalent_incl_LULUCF.csv\u001b[39m\u001b[38;5;124m'\u001b[39m)\n\u001b[0;32m---> 18\u001b[0m \u001b[43mXXXXXXX\u001b[49m\n\u001b[1;32m     20\u001b[0m \u001b[38;5;66;03m# combine both dataframes\u001b[39;00m\n\u001b[1;32m     22\u001b[0m df \u001b[38;5;241m=\u001b[39mpd\u001b[38;5;241m.\u001b[39mconcat([df1,df2])\n",
      "\u001b[0;31mNameError\u001b[0m: name 'XXXXXXX' is not defined"
     ]
    }
   ],
   "source": [
    "import pandas as pd\n",
    "import ParseXLS as parser\n",
    "\n",
    "ticker_file = s3_source.Object(os.environ['S3_LANDING_BUCKET'],'PCAF-sovereign-footprint/UNFCCC/Time_Series_GHG_total_with_LULUCF_in_kt_CO₂_equivalent.xlsx')\n",
    "ticker_file.download_file(f'/tmp/Time_Series_GHG_total_with_LULUCF_in_kt_CO₂_equivalent.xlsx')\n",
    "\n",
    "df1 = parser.process('UNFCCC_with_LULUCF.ini','UNFCCC_with_LULUCF.csv') \n",
    "\n",
    "\n",
    "ticker_file = s3_source.Object(os.environ['S3_LANDING_BUCKET'],'PCAF-sovereign-footprint/UNFCCC/Annual_Net_emissions_removals_in_Gg_CO₂_equivalent_incl_LULUCF.csv')\n",
    "ticker_file.download_file(f'/tmp/Annual_Net_emissions_removals_in_Gg_CO₂_equivalent_incl_LULUCF.csv')\n",
    "\n",
    "df2 = parser.process('UNFCCC_with_LULUCF_other.ini','UNFCCC_with_LULUCF_other.csv') \n",
    "\n",
    "# combine both dataframes\n",
    "\n",
    "df =pd.concat([df1,df2])\n",
    "\n",
    "#pd.to_numeric(df[\"validity_date\"],errors='raise')\n",
    "df=df.astype({'validity_date': 'int32'})\n",
    "df=df.astype({'country_iso_code': 'string'})\n",
    "df=df.astype({'value': 'float'})\n",
    "\n",
    "df= df.convert_dtypes()\n",
    "df.info(verbose=True)\n",
    "df= df[['rec_source','data_provider','country_iso_code','country_name','validity_date','attribute','value','value_units']].dropna(subset=['value'])\n",
    "#df\n"
   ]
  },
  {
   "cell_type": "code",
   "execution_count": null,
   "id": "f0a47809-2e5f-41ce-8b62-75ed791b5b13",
   "metadata": {},
   "outputs": [],
   "source": [
    "df_annex1=df1[[\"country_iso_code\"]].drop_duplicates()\n",
    "df_annex1=df_annex1.astype({'country_iso_code': 'string'})\n",
    "df_annex1[\"annex1_flag\"] = \"Y\"\n",
    "df_annex1=df_annex1.astype({'annex1_flag': 'string'})\n",
    "df_annex1.info(verbose=True)\n",
    "df_annex1"
   ]
  },
  {
   "cell_type": "code",
   "execution_count": null,
   "id": "ee06dd8e-fb76-475a-aede-8e823d3e3cc3",
   "metadata": {},
   "outputs": [],
   "source": [
    "df_non_annex1=df2[[\"country_iso_code\"]].drop_duplicates()\n",
    "df_non_annex1[\"annex1_flag\"] = \"N\"\n",
    "df_non_annex1"
   ]
  },
  {
   "cell_type": "code",
   "execution_count": null,
   "id": "cd818ecf-e4fe-4a0a-8cc5-7c317c806a31",
   "metadata": {},
   "outputs": [],
   "source": [
    "df_country = pd.concat([df_annex1,df_non_annex1])\n",
    "df_country=df_country.astype({'country_iso_code': 'string'})\n",
    "df_country = df_country.convert_dtypes()\n",
    "df_country\n",
    "## add the missing countries\n",
    "\n",
    "missing_countries = ({'country_iso_code': ['TWN','AND','HKG','BMU'],'annex1_flag':['N','N','N','N']})\n",
    "df_country_missing = pd.DataFrame(missing_countries)\n",
    "df_country = pd.concat([df_country,df_country_missing])                                            \n",
    "df_country\n",
    "#df_country[df_country[\"annex1_flag\"]=='Y']"
   ]
  },
  {
   "cell_type": "code",
   "execution_count": null,
   "id": "98f981a6-7a85-4a19-9556-89edc560aa21",
   "metadata": {},
   "outputs": [],
   "source": [
    "import osc_ingest_trino as osc\n",
    "columnschema = osc.create_table_schema_pairs(df) \n",
    "\n",
    "sql = f\"\"\"\n",
    "drop table if exists {ingest_catalog}.{ingest_schema}.{ingest_country_table}\n",
    "\"\"\"\n",
    "print(sql)\n",
    "qres = engine.execute(sql)"
   ]
  },
  {
   "cell_type": "code",
   "execution_count": null,
   "id": "1ff3b6f8-018b-4e7f-b055-d981b8e45915",
   "metadata": {},
   "outputs": [],
   "source": [
    "print(ingest_catalog)\n",
    "#df=df.drop(df[df.country_name==\"cote d'ivoire\"].index)\n",
    "df_country.to_sql(ingest_country_table,\n",
    "           con=engine,\n",
    "           schema=ingest_schema,\n",
    "           if_exists='append',\n",
    "           index=False,\n",
    "           method=osc.TrinoBatchInsert(batch_size = 1000, verbose = True))"
   ]
  },
  {
   "cell_type": "code",
   "execution_count": null,
   "id": "089f57b7-ac35-4cc3-90ed-6f3b28651b5b",
   "metadata": {},
   "outputs": [],
   "source": [
    "import osc_ingest_trino as osc\n",
    "columnschema = osc.create_table_schema_pairs(df) \n",
    "\n",
    "sql = f\"\"\"\n",
    "drop table if exists {ingest_catalog}.{ingest_schema}.{ingest_table}\n",
    "\"\"\"\n",
    "print(sql)\n",
    "qres = engine.execute(sql)"
   ]
  },
  {
   "cell_type": "code",
   "execution_count": null,
   "id": "8e65e726-33c2-4821-8582-fddb4cd43f69",
   "metadata": {},
   "outputs": [],
   "source": [
    "tabledef = f\"\"\"\n",
    "create table if not exists {ingest_catalog}.{ingest_schema}.{ingest_table}(\n",
    "{columnschema}\n",
    ") with (\n",
    "    format = 'ORC',\n",
    "    partitioning = array['country_iso_code']\n",
    ")\n",
    "\"\"\"\n",
    "print(tabledef)\n",
    "qres = engine.execute(tabledef)\n",
    "#print(qres.fetchall())"
   ]
  },
  {
   "cell_type": "code",
   "execution_count": null,
   "id": "1b4f212a-533d-45c3-9314-309c067bf393",
   "metadata": {},
   "outputs": [],
   "source": [
    "# Delete all data from our db, so we start with empty table\n",
    "sql=f\"\"\"\n",
    "delete from {ingest_catalog}.{ingest_schema}.{ingest_table}\n",
    "\"\"\"\n",
    "qres = engine.execute(sql)\n",
    "print(qres.fetchall())"
   ]
  },
  {
   "cell_type": "code",
   "execution_count": null,
   "id": "d78a282a-e16b-4e3d-9398-46a72eebf197",
   "metadata": {},
   "outputs": [],
   "source": [
    "sql=f\"\"\"\n",
    "select * from {ingest_catalog}.{ingest_schema}.{ingest_table}\n",
    "\"\"\"\n",
    "pd.read_sql(sql, engine)\n"
   ]
  },
  {
   "cell_type": "code",
   "execution_count": null,
   "id": "8c51c0c2-1f5a-44c2-82c0-e6f397d8bbc2",
   "metadata": {},
   "outputs": [],
   "source": [
    "print(ingest_catalog)\n",
    "#df=df.drop(df[df.country_name==\"cote d'ivoire\"].index)\n",
    "df.to_sql(ingest_table,\n",
    "           con=engine,\n",
    "           schema=ingest_schema,\n",
    "           if_exists='append',\n",
    "           index=False,\n",
    "           method=osc.TrinoBatchInsert(batch_size = 1000, verbose = True))"
   ]
  },
  {
   "cell_type": "code",
   "execution_count": null,
   "id": "080e8a85-785d-4f52-97f6-0573e7d08b61",
   "metadata": {},
   "outputs": [],
   "source": [
    "sql=f\"\"\"\n",
    "select * from {ingest_catalog}.{ingest_schema}.{ingest_table} where country_iso_code='CAN' and validity_date=2020\"\"\"\n",
    "pd.read_sql(sql, engine)\n"
   ]
  },
  {
   "cell_type": "code",
   "execution_count": null,
   "id": "91781e62-2cbc-4a05-929c-17772c4c1404",
   "metadata": {},
   "outputs": [],
   "source": [
    "sql=f\"\"\"\n",
    "select * from {ingest_catalog}.{ingest_schema}.{ingest_country_table}  \"\"\"\n",
    "df = pd.read_sql(sql, engine)\n",
    "df.to_excel(\"pcaf_countries.xls\",index=False,encoding='utf-8')"
   ]
  },
  {
   "cell_type": "code",
   "execution_count": null,
   "id": "74d45044-1ea2-419a-aa71-32af9cf9b7ee",
   "metadata": {},
   "outputs": [],
   "source": []
  },
  {
   "cell_type": "code",
   "execution_count": null,
   "id": "aea4e66d-eef4-492a-8ace-ca760940708b",
   "metadata": {},
   "outputs": [],
   "source": []
  }
 ],
 "metadata": {
  "kernelspec": {
   "display_name": "Python 3 (ipykernel)",
   "language": "python",
   "name": "python3"
  },
  "language_info": {
   "codemirror_mode": {
    "name": "ipython",
    "version": 3
   },
   "file_extension": ".py",
   "mimetype": "text/x-python",
   "name": "python",
   "nbconvert_exporter": "python",
   "pygments_lexer": "ipython3",
   "version": "3.8.8"
  }
 },
 "nbformat": 4,
 "nbformat_minor": 5
}
