{
 "cells": [
  {
   "cell_type": "markdown",
   "id": "123fbd44-6a73-45ad-92c4-182e82fb6f84",
   "metadata": {},
   "source": [
    "### The PRIMAP-hist national historical emissions time series (1750-2019) v2.3.1"
   ]
  },
  {
   "cell_type": "markdown",
   "id": "ea79a0a7-4faa-449d-ad5c-5c247789106c",
   "metadata": {},
   "source": [
    "<font size=\"3\">https://zenodo.org/record/5494497#.YujsrTfP2Un</font>"
   ]
  },
  {
   "cell_type": "markdown",
   "id": "9ea3c6bc-68ce-4fd4-9371-265268836a77",
   "metadata": {},
   "source": [
    "Load Environment Variables"
   ]
  },
  {
   "cell_type": "code",
   "execution_count": null,
   "id": "32b2bef2-3016-41ce-94ad-fee44289de83",
   "metadata": {},
   "outputs": [],
   "source": [
    "from dotenv import dotenv_values, load_dotenv\n",
    "import osc_ingest_trino as osc\n",
    "import os\n",
    "import pathlib\n",
    "dotenv_dir = os.environ.get('CREDENTIAL_DOTENV_DIR', os.environ.get('PWD', '/opt/app-root/src'))\n",
    "dotenv_path = pathlib.Path(dotenv_dir) / 'credentials.env'\n",
    "if os.path.exists(dotenv_path):\n",
    "    load_dotenv(dotenv_path=dotenv_path,override=True)"
   ]
  },
  {
   "cell_type": "code",
   "execution_count": null,
   "id": "069122c2-1609-44fc-9dfa-8ba218443e3d",
   "metadata": {},
   "outputs": [],
   "source": [
    "# use a catalog that is configured for iceberg\n",
    "ingest_catalog = 'osc_datacommons_dev'\n",
    "ingest_schema = 'pcaf_sovereign_footprint'\n",
    "ingest_table = 'sf_primap_hist_emissions'"
   ]
  },
  {
   "cell_type": "code",
   "execution_count": null,
   "id": "0fffb995-3c87-4eb6-a779-f69458a478d0",
   "metadata": {},
   "outputs": [],
   "source": [
    "# Bucket must be configured with credentials for the Hive ingestion bucket\n",
    "hive_bucket = osc.attach_s3_bucket('S3_OSCCL2')\n",
    "hive_catalog = 'osc_datacommons_hive_ingest'\n",
    "hive_schema = 'ingest'"
   ]
  },
  {
   "cell_type": "code",
   "execution_count": null,
   "id": "08e93fa5-0ee5-42f6-a7cd-05486f20f74e",
   "metadata": {},
   "outputs": [],
   "source": [
    "import trino\n",
    "from sqlalchemy.engine import create_engine\n",
    "\n",
    "env_var_prefix = 'TRINO'\n",
    "\n",
    "sqlstring = 'trino://{user}@{host}:{port}/'.format(\n",
    "    user = os.environ[f'{env_var_prefix}_USER'],\n",
    "    host = os.environ[f'{env_var_prefix}_HOST'],\n",
    "    port = os.environ[f'{env_var_prefix}_PORT']\n",
    ")\n",
    "sqlargs = {\n",
    "    'auth': trino.auth.JWTAuthentication(os.environ[f'{env_var_prefix}_PASSWD']),\n",
    "    'http_scheme': 'https',\n",
    "    'catalog': 'osc_datacommons_dev'\n",
    "}\n",
    "engine = create_engine(sqlstring, connect_args = sqlargs)\n",
    "connection = engine.connect()\n",
    "\n",
    "trino_bucket = osc.attach_s3_bucket(\"S3_OSCCL2\")"
   ]
  },
  {
   "cell_type": "code",
   "execution_count": null,
   "id": "32427c61-4905-4e42-b6f3-196be697cca5",
   "metadata": {},
   "outputs": [],
   "source": [
    "import boto3\n",
    "\n",
    "s3_source = boto3.resource(\n",
    "    service_name=\"s3\",\n",
    "    endpoint_url=os.environ['S3_LANDING_ENDPOINT'],\n",
    "    aws_access_key_id=os.environ['S3_LANDING_ACCESS_KEY'],\n",
    "    aws_secret_access_key=os.environ['S3_LANDING_SECRET_KEY'],\n",
    ")\n",
    "source_bucket = s3_source.Bucket(os.environ['S3_LANDING_BUCKET'])"
   ]
  },
  {
   "cell_type": "markdown",
   "id": "c3ea0d22-675e-4a2b-ab86-adf50e6e1e48",
   "metadata": {},
   "source": [
    "Open a Trino connection using JWT for authentication"
   ]
  },
  {
   "cell_type": "code",
   "execution_count": null,
   "id": "ca2420a4-3d9f-49ba-9e10-f2544e66b71b",
   "metadata": {},
   "outputs": [],
   "source": [
    "# make sure schema exists, or table creation below will fail in weird ways\n",
    "sql = f\"\"\"\n",
    "create schema if not exists {ingest_catalog}.{ingest_schema}\n",
    "\"\"\"\n",
    "qres = engine.execute(sql)\n",
    "#print(qres.fetchall())"
   ]
  },
  {
   "cell_type": "code",
   "execution_count": null,
   "id": "5e1600bb-66ae-4206-818e-000c5d336347",
   "metadata": {},
   "outputs": [],
   "source": [
    "# Show available schemas to ensure trino connection is set correctly\n",
    "schema_read = engine.execute(f'show schemas in {ingest_catalog}')\n",
    "for row in schema_read.fetchall():\n",
    "    print(row)"
   ]
  },
  {
   "cell_type": "code",
   "execution_count": null,
   "id": "6543a521-d8d6-4222-9df5-8a8ab584a233",
   "metadata": {},
   "outputs": [],
   "source": []
  },
  {
   "cell_type": "code",
   "execution_count": null,
   "id": "2fb07a12-d0d2-4231-90b8-cb86e56bd44a",
   "metadata": {},
   "outputs": [],
   "source": [
    "import pandas as pd\n",
    "import csv\n",
    "import ParseXLS as parser\n",
    "\n",
    "\n",
    "primap_file = s3_source.Object(os.environ['S3_LANDING_BUCKET'],'PCAF-sovereign-footprint/PRIMAP/Guetschow-et-al-2021-PRIMAP-hist_v2.3.1_20-Sep_2021.csv')\n",
    "primap_file.download_file(f'/tmp/Guetschow-et-al-2021-PRIMAP-hist_v2.3.1_20-Sep_2021.csv')\n",
    "#df = parser.process('OECD_IMGR_FCO2.ini','OECD.csv') \n",
    "\n",
    "df = parser.process('PRIMAP.ini','PRIMAP.csv') \n",
    "df=df.astype({'validity_date': 'int32'})\n",
    "df=df.astype({'country_iso_code': 'string'})\n",
    "df=df.astype({'attribute': 'string'})\n",
    "df= df.convert_dtypes()\n",
    "df.info(verbose=True)\n",
    "\n",
    "#df['validity_date_dt'] = pd.to_datetime(df.validity_date, format='%Y')\n",
    "#df = df.convert_dtypes()\n",
    "#df.validity_date_dt = df.validity_date_dt.astype('datetime64[ns]')\n",
    "\n"
   ]
  },
  {
   "cell_type": "code",
   "execution_count": null,
   "id": "5d2505a4-7b78-45fd-aa4e-555a80e023b5",
   "metadata": {},
   "outputs": [],
   "source": [
    "columnschema = osc.create_table_schema_pairs(df,typemap={'datetime64[ns]':'timestamp(6)'}) \n",
    "print(columnschema)\n",
    "\n",
    "tabledef = f\"\"\"\n",
    "create table if not exists {ingest_catalog}.{ingest_schema}.{ingest_table}(\n",
    "{columnschema}\n",
    ") with (\n",
    "    format = 'ORC',\n",
    "    partitioning = ARRAY['country_iso_code']\n",
    ")\n",
    "\"\"\"\n",
    "print(tabledef)\n",
    "\n",
    "\n",
    "sql = f\"\"\"\n",
    "drop table if exists {ingest_catalog}.{ingest_schema}.{ingest_table}\n",
    "\"\"\"\n",
    "print(sql)\n",
    "qres = engine.execute(sql)\n",
    "#print(qres.fetchall())\n",
    "\n",
    "#table_create = engine.execute(tabledef)\n",
    "#print(table_create.fetchall())\n",
    "\n",
    "\n"
   ]
  },
  {
   "cell_type": "code",
   "execution_count": null,
   "id": "91781e62-2cbc-4a05-929c-17772c4c1404",
   "metadata": {},
   "outputs": [],
   "source": [
    "df.info(verbose=True)\n",
    "        \n",
    "        "
   ]
  },
  {
   "cell_type": "code",
   "execution_count": null,
   "id": "6957a4dd-78e7-4179-8945-094436218eda",
   "metadata": {},
   "outputs": [],
   "source": [
    "osc.fast_pandas_ingest_via_hive(\n",
    "    df,\n",
    "    engine,\n",
    "    ingest_catalog, ingest_schema, ingest_table,\n",
    "    hive_bucket, hive_catalog, hive_schema,\n",
    "    partition_columns = ['country_iso_code'],\n",
    "    overwrite = True,\n",
    "    verbose = True\n",
    ")"
   ]
  },
  {
   "cell_type": "code",
   "execution_count": null,
   "id": "74d45044-1ea2-419a-aa71-32af9cf9b7ee",
   "metadata": {},
   "outputs": [],
   "source": [
    "df.to_sql(ingest_table,\n",
    "           con=engine,\n",
    "           schema=ingest_schema,\n",
    "           if_exists='append',\n",
    "           index=False,\n",
    "           method=osc.TrinoBatchInsert(batch_size = 1, verbose = True))"
   ]
  },
  {
   "cell_type": "code",
   "execution_count": null,
   "id": "aea4e66d-eef4-492a-8ace-ca760940708b",
   "metadata": {},
   "outputs": [],
   "source": [
    "import pandas as pd\n",
    "sql=f\"\"\"\n",
    "select *  from {ingest_catalog}.{ingest_schema}.{ingest_table} where validity_date=2007 and country_iso_code='DEU'\"\"\"\n",
    "pd.read_sql(sql, engine)"
   ]
  },
  {
   "cell_type": "code",
   "execution_count": null,
   "id": "bdda9017-4059-4264-b5ae-4e0a22d0969a",
   "metadata": {},
   "outputs": [],
   "source": []
  },
  {
   "cell_type": "code",
   "execution_count": null,
   "id": "ff58ed19-3b5b-4cbb-bfc4-6b12b3325954",
   "metadata": {},
   "outputs": [],
   "source": []
  },
  {
   "cell_type": "code",
   "execution_count": null,
   "id": "7c5f643d-bc3f-4eef-bec3-10b884861efe",
   "metadata": {},
   "outputs": [],
   "source": []
  }
 ],
 "metadata": {
  "kernelspec": {
   "display_name": "Python 3 (ipykernel)",
   "language": "python",
   "name": "python3"
  },
  "language_info": {
   "codemirror_mode": {
    "name": "ipython",
    "version": 3
   },
   "file_extension": ".py",
   "mimetype": "text/x-python",
   "name": "python",
   "nbconvert_exporter": "python",
   "pygments_lexer": "ipython3",
   "version": "3.8.8"
  }
 },
 "nbformat": 4,
 "nbformat_minor": 5
}
