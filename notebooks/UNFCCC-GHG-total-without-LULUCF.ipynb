{
 "cells": [
  {
   "cell_type": "markdown",
   "id": "a723594d-bc7b-4a2d-804e-1602e256ea72",
   "metadata": {},
   "source": [
    "<font size=\"5\">Ingest Time Series - GHG total without LULUCF, in kt CO₂ equivalent into Trino pipeline</font>\n"
   ]
  },
  {
   "cell_type": "code",
   "execution_count": 1,
   "id": "a3de51bc-afc5-44b1-a372-3595923ebb85",
   "metadata": {},
   "outputs": [
    {
     "name": "stdout",
     "output_type": "stream",
     "text": [
      "Requirement already satisfied: python-dotenv in /opt/app-root/lib/python3.8/site-packages (0.20.0)\n",
      "Note: you may need to restart the kernel to use updated packages.\n",
      "Requirement already satisfied: boto3 in /opt/app-root/lib/python3.8/site-packages (1.21.40)\n",
      "Requirement already satisfied: jmespath<2.0.0,>=0.7.1 in /opt/app-root/lib/python3.8/site-packages (from boto3) (1.0.0)\n",
      "Requirement already satisfied: s3transfer<0.6.0,>=0.5.0 in /opt/app-root/lib/python3.8/site-packages (from boto3) (0.5.2)\n",
      "Requirement already satisfied: botocore<1.25.0,>=1.24.40 in /opt/app-root/lib/python3.8/site-packages (from boto3) (1.24.40)\n",
      "Requirement already satisfied: urllib3<1.27,>=1.25.4 in /opt/app-root/lib/python3.8/site-packages (from botocore<1.25.0,>=1.24.40->boto3) (1.26.9)\n",
      "Requirement already satisfied: python-dateutil<3.0.0,>=2.1 in /opt/app-root/lib/python3.8/site-packages (from botocore<1.25.0,>=1.24.40->boto3) (2.8.2)\n",
      "Requirement already satisfied: six>=1.5 in /opt/app-root/lib/python3.8/site-packages (from python-dateutil<3.0.0,>=2.1->botocore<1.25.0,>=1.24.40->boto3) (1.16.0)\n",
      "Note: you may need to restart the kernel to use updated packages.\n",
      "Requirement already satisfied: trino in /opt/app-root/lib/python3.8/site-packages (0.306.0)\n",
      "Requirement already satisfied: sqlalchemy in /opt/app-root/lib/python3.8/site-packages (1.4.35)\n",
      "Requirement already satisfied: sqlalchemy-trino in /opt/app-root/lib/python3.8/site-packages (0.4.1)\n",
      "Requirement already satisfied: requests in /opt/app-root/lib/python3.8/site-packages (from trino) (2.27.1)\n",
      "Requirement already satisfied: greenlet!=0.4.17 in /opt/app-root/lib/python3.8/site-packages (from sqlalchemy) (1.1.2)\n",
      "Requirement already satisfied: idna<4,>=2.5 in /opt/app-root/lib/python3.8/site-packages (from requests->trino) (3.3)\n",
      "Requirement already satisfied: urllib3<1.27,>=1.21.1 in /opt/app-root/lib/python3.8/site-packages (from requests->trino) (1.26.9)\n",
      "Requirement already satisfied: certifi>=2017.4.17 in /opt/app-root/lib/python3.8/site-packages (from requests->trino) (2021.10.8)\n",
      "Requirement already satisfied: charset-normalizer~=2.0.0 in /opt/app-root/lib/python3.8/site-packages (from requests->trino) (2.0.12)\n",
      "Note: you may need to restart the kernel to use updated packages.\n",
      "Requirement already satisfied: pandas in /opt/app-root/lib/python3.8/site-packages (1.4.2)\n",
      "Requirement already satisfied: pyarrow in /opt/app-root/lib/python3.8/site-packages (7.0.0)\n",
      "Requirement already satisfied: fastparquet in /opt/app-root/lib/python3.8/site-packages (0.8.1)\n",
      "Requirement already satisfied: numpy>=1.18.5 in /opt/app-root/lib/python3.8/site-packages (from pandas) (1.22.3)\n",
      "Requirement already satisfied: pytz>=2020.1 in /opt/app-root/lib/python3.8/site-packages (from pandas) (2022.1)\n",
      "Requirement already satisfied: python-dateutil>=2.8.1 in /opt/app-root/lib/python3.8/site-packages (from pandas) (2.8.2)\n",
      "Requirement already satisfied: cramjam>=2.3.0 in /opt/app-root/lib/python3.8/site-packages (from fastparquet) (2.5.0)\n",
      "Requirement already satisfied: fsspec in /opt/app-root/lib/python3.8/site-packages (from fastparquet) (2022.3.0)\n",
      "Requirement already satisfied: six>=1.5 in /opt/app-root/lib/python3.8/site-packages (from python-dateutil>=2.8.1->pandas) (1.16.0)\n",
      "Note: you may need to restart the kernel to use updated packages.\n",
      "Requirement already satisfied: osc-ingest-tools in /opt/app-root/lib/python3.8/site-packages (0.3.4)\n",
      "Requirement already satisfied: sqlalchemy-trino in /opt/app-root/lib/python3.8/site-packages (from osc-ingest-tools) (0.4.1)\n",
      "Requirement already satisfied: python-dotenv in /opt/app-root/lib/python3.8/site-packages (from osc-ingest-tools) (0.20.0)\n",
      "Requirement already satisfied: boto3 in /opt/app-root/lib/python3.8/site-packages (from osc-ingest-tools) (1.21.40)\n",
      "Requirement already satisfied: sqlalchemy in /opt/app-root/lib/python3.8/site-packages (from osc-ingest-tools) (1.4.35)\n",
      "Requirement already satisfied: trino in /opt/app-root/lib/python3.8/site-packages (from osc-ingest-tools) (0.306.0)\n",
      "Requirement already satisfied: pandas in /opt/app-root/lib/python3.8/site-packages (from osc-ingest-tools) (1.4.2)\n",
      "Requirement already satisfied: jmespath<2.0.0,>=0.7.1 in /opt/app-root/lib/python3.8/site-packages (from boto3->osc-ingest-tools) (1.0.0)\n",
      "Requirement already satisfied: s3transfer<0.6.0,>=0.5.0 in /opt/app-root/lib/python3.8/site-packages (from boto3->osc-ingest-tools) (0.5.2)\n",
      "Requirement already satisfied: botocore<1.25.0,>=1.24.40 in /opt/app-root/lib/python3.8/site-packages (from boto3->osc-ingest-tools) (1.24.40)\n",
      "Requirement already satisfied: numpy>=1.18.5 in /opt/app-root/lib/python3.8/site-packages (from pandas->osc-ingest-tools) (1.22.3)\n",
      "Requirement already satisfied: python-dateutil>=2.8.1 in /opt/app-root/lib/python3.8/site-packages (from pandas->osc-ingest-tools) (2.8.2)\n",
      "Requirement already satisfied: pytz>=2020.1 in /opt/app-root/lib/python3.8/site-packages (from pandas->osc-ingest-tools) (2022.1)\n",
      "Requirement already satisfied: greenlet!=0.4.17 in /opt/app-root/lib/python3.8/site-packages (from sqlalchemy->osc-ingest-tools) (1.1.2)\n",
      "Requirement already satisfied: requests in /opt/app-root/lib/python3.8/site-packages (from trino->osc-ingest-tools) (2.27.1)\n",
      "Requirement already satisfied: urllib3<1.27,>=1.25.4 in /opt/app-root/lib/python3.8/site-packages (from botocore<1.25.0,>=1.24.40->boto3->osc-ingest-tools) (1.26.9)\n",
      "Requirement already satisfied: six>=1.5 in /opt/app-root/lib/python3.8/site-packages (from python-dateutil>=2.8.1->pandas->osc-ingest-tools) (1.16.0)\n",
      "Requirement already satisfied: certifi>=2017.4.17 in /opt/app-root/lib/python3.8/site-packages (from requests->trino->osc-ingest-tools) (2021.10.8)\n",
      "Requirement already satisfied: charset-normalizer~=2.0.0 in /opt/app-root/lib/python3.8/site-packages (from requests->trino->osc-ingest-tools) (2.0.12)\n",
      "Requirement already satisfied: idna<4,>=2.5 in /opt/app-root/lib/python3.8/site-packages (from requests->trino->osc-ingest-tools) (3.3)\n",
      "Note: you may need to restart the kernel to use updated packages.\n"
     ]
    }
   ],
   "source": [
    "# 'capture' magic prevents long outputs from spamming your notebook\n",
    "#%%capture pipoutput\n",
    "\n",
    "# For loading predefined environment variables from files\n",
    "# Typically used to load sensitive access credentials\n",
    "%pip install python-dotenv\n",
    "\n",
    "# Standard python package for interacting with S3 buckets\n",
    "%pip install boto3\n",
    "\n",
    "# Interacting with Trino and using Trino with sqlalchemy\n",
    "%pip install trino sqlalchemy sqlalchemy-trino\n",
    "\n",
    "# Pandas and parquet file i/o\n",
    "%pip install pandas pyarrow fastparquet\n",
    "\n",
    "# OS-Climate utilities to make data ingest easier\n",
    "%pip install osc-ingest-tools"
   ]
  },
  {
   "cell_type": "code",
   "execution_count": 2,
   "id": "5eda7d2a-f40d-430b-9549-24021eb5099b",
   "metadata": {},
   "outputs": [],
   "source": [
    "from dotenv import dotenv_values, load_dotenv\n",
    "import osc_ingest_trino as osc\n",
    "import os\n",
    "import pathlib"
   ]
  },
  {
   "cell_type": "markdown",
   "id": "ca39f16c-6cb3-4407-a56f-9fcedf33577d",
   "metadata": {},
   "source": [
    "Load Environment Variables"
   ]
  },
  {
   "cell_type": "code",
   "execution_count": 3,
   "id": "32b2bef2-3016-41ce-94ad-fee44289de83",
   "metadata": {},
   "outputs": [],
   "source": [
    "dotenv_dir = os.environ.get('CREDENTIAL_DOTENV_DIR', os.environ.get('PWD', '/opt/app-root/src'))\n",
    "dotenv_path = pathlib.Path(dotenv_dir) / 'credentials.env'\n",
    "if os.path.exists(dotenv_path):\n",
    "    load_dotenv(dotenv_path=dotenv_path,override=True)"
   ]
  },
  {
   "cell_type": "code",
   "execution_count": 4,
   "id": "069122c2-1609-44fc-9dfa-8ba218443e3d",
   "metadata": {},
   "outputs": [],
   "source": [
    "# use a catalog that is configured for iceberg\n",
    "ingest_catalog = 'osc_datacommons_dev'\n",
    "ingest_schema = 'pcaf_sovereign_footprint'\n",
    "ingest_table = 'sf_unfccc_without_lulucf'"
   ]
  },
  {
   "cell_type": "code",
   "execution_count": 5,
   "id": "08e93fa5-0ee5-42f6-a7cd-05486f20f74e",
   "metadata": {},
   "outputs": [
    {
     "name": "stderr",
     "output_type": "stream",
     "text": [
      "/opt/app-root/lib64/python3.8/site-packages/sqlalchemy_trino/dialect.py:259: SAWarning: Dialect trino:rest will not make use of SQL compilation caching as it does not set the 'supports_statement_cache' attribute to ``True``.  This can have significant performance implications including some performance degradations in comparison to prior SQLAlchemy versions.  Dialect maintainers should seek to set this attribute to True after appropriate development and testing for SQLAlchemy 1.4 caching support.   Alternatively, this attribute may be set to False which will disable this warning. (Background on this error at: https://sqlalche.me/e/14/cprf)\n",
      "  res = connection.execute(sql.text(query)).scalar()\n"
     ]
    }
   ],
   "source": [
    "import trino\n",
    "from sqlalchemy.engine import create_engine\n",
    "\n",
    "env_var_prefix = 'TRINO'\n",
    "\n",
    "sqlstring = 'trino://{user}@{host}:{port}/'.format(\n",
    "    user = os.environ[f'{env_var_prefix}_USER'],\n",
    "    host = os.environ[f'{env_var_prefix}_HOST'],\n",
    "    port = os.environ[f'{env_var_prefix}_PORT']\n",
    ")\n",
    "sqlargs = {\n",
    "    'auth': trino.auth.JWTAuthentication(os.environ[f'{env_var_prefix}_PASSWD']),\n",
    "    'http_scheme': 'https',\n",
    "    'catalog': 'osc_datacommons_dev'\n",
    "}\n",
    "engine = create_engine(sqlstring, connect_args = sqlargs)\n",
    "connection = engine.connect()\n",
    "\n",
    "trino_bucket = osc.attach_s3_bucket(\"S3_DEV\")"
   ]
  },
  {
   "cell_type": "code",
   "execution_count": 6,
   "id": "32427c61-4905-4e42-b6f3-196be697cca5",
   "metadata": {},
   "outputs": [],
   "source": [
    "import boto3\n",
    "\n",
    "s3_source = boto3.resource(\n",
    "    service_name=\"s3\",\n",
    "    endpoint_url=os.environ['S3_LANDING_ENDPOINT'],\n",
    "    aws_access_key_id=os.environ['S3_LANDING_ACCESS_KEY'],\n",
    "    aws_secret_access_key=os.environ['S3_LANDING_SECRET_KEY'],\n",
    ")\n",
    "source_bucket = s3_source.Bucket(os.environ['S3_LANDING_BUCKET'])"
   ]
  },
  {
   "cell_type": "markdown",
   "id": "87a28a14-e494-4d85-b910-5826070352e8",
   "metadata": {},
   "source": [
    "Open a Trino connection using JWT for authentication"
   ]
  },
  {
   "cell_type": "code",
   "execution_count": 7,
   "id": "ca2420a4-3d9f-49ba-9e10-f2544e66b71b",
   "metadata": {},
   "outputs": [
    {
     "name": "stdout",
     "output_type": "stream",
     "text": [
      "[(True,)]\n"
     ]
    }
   ],
   "source": [
    "# make sure schema exists, or table creation below will fail in weird ways\n",
    "sql = f\"\"\"\n",
    "create schema if not exists {ingest_catalog}.{ingest_schema}\n",
    "\"\"\"\n",
    "qres = engine.execute(sql)\n",
    "print(qres.fetchall())"
   ]
  },
  {
   "cell_type": "code",
   "execution_count": 8,
   "id": "5e1600bb-66ae-4206-818e-000c5d336347",
   "metadata": {},
   "outputs": [
    {
     "name": "stdout",
     "output_type": "stream",
     "text": [
      "('default',)\n",
      "('demo_dv',)\n",
      "('iceberg_demo',)\n",
      "('information_schema',)\n",
      "('pcaf_sovereign_footprint',)\n",
      "('sandbox',)\n"
     ]
    }
   ],
   "source": [
    "# Show available schemas to ensure trino connection is set correctly\n",
    "schema_read = engine.execute(f'show schemas in {ingest_catalog}')\n",
    "for row in schema_read.fetchall():\n",
    "    print(row)"
   ]
  },
  {
   "cell_type": "code",
   "execution_count": 9,
   "id": "6543a521-d8d6-4222-9df5-8a8ab584a233",
   "metadata": {},
   "outputs": [
    {
     "name": "stdout",
     "output_type": "stream",
     "text": [
      "Requirement already satisfied: country_converter in /opt/app-root/lib/python3.8/site-packages (0.7.4)\n",
      "Requirement already satisfied: pandas>=1.0 in /opt/app-root/lib/python3.8/site-packages (from country_converter) (1.4.2)\n",
      "Requirement already satisfied: python-dateutil>=2.8.1 in /opt/app-root/lib/python3.8/site-packages (from pandas>=1.0->country_converter) (2.8.2)\n",
      "Requirement already satisfied: pytz>=2020.1 in /opt/app-root/lib/python3.8/site-packages (from pandas>=1.0->country_converter) (2022.1)\n",
      "Requirement already satisfied: numpy>=1.18.5 in /opt/app-root/lib/python3.8/site-packages (from pandas>=1.0->country_converter) (1.22.3)\n",
      "Requirement already satisfied: six>=1.5 in /opt/app-root/lib/python3.8/site-packages (from python-dateutil>=2.8.1->pandas>=1.0->country_converter) (1.16.0)\n",
      "Note: you may need to restart the kernel to use updated packages.\n"
     ]
    }
   ],
   "source": [
    "pip install country_converter --upgrade"
   ]
  },
  {
   "cell_type": "markdown",
   "id": "51cd8f12-cdb8-4036-9474-28de3182365d",
   "metadata": {},
   "source": [
    "Load PCAF_UNFCC_WITHOUT_LULUCF"
   ]
  },
  {
   "cell_type": "code",
   "execution_count": 10,
   "id": "2fb07a12-d0d2-4231-90b8-cb86e56bd44a",
   "metadata": {},
   "outputs": [
    {
     "name": "stderr",
     "output_type": "stream",
     "text": [
      "European Union (Convention) not found in regex\n",
      "European Union (KP) not found in regex\n",
      "nan not found in ISO3\n",
      "Source: UNFCCC GHG Data Interface not found in regex\n",
      "Note 1: The reporting and review requirements for GHG inventories are different for Annex I and non-Annex I Parties. The definition format of data for emissions/removals from the forestry sector is different for Annex I and non-Annex I Parties. not found in regex\n",
      "Note 2: Base year data in the data interface relate to the base year under the Climate Change Convention (UNFCCC).  The base year under the Convention is defined slightly different than the base year under the Kyoto Protocol.  An exception is made for European Union (KP) whereby the base year under the Kyoto Protocol is displayed. not found in regex\n",
      "Note 3: – means \"No data available\" not found in regex\n",
      "Note 4: Data displayed on the data interface are \"as received\" from Parties. The publication of Party submissions on this website does not imply the expression of any opinion whatsoever on the part of the UNFCCC or the Secretariat of the United Nations concerning the legal status of any country, territory, city or area or of its authorities, or concerning the delimitation of its frontiers or boundaries as may be referred to in any of the submissions. not found in regex\n",
      "Report produced on Friday, 18 March 2022 14:21:36 CET not found in regex\n"
     ]
    },
    {
     "name": "stdout",
     "output_type": "stream",
     "text": [
      "UNFCCC_without_LULUCF.ini\n",
      "file_list:\n",
      "['/tmp/Time_Series_GHG_total_without_LULUCF_in_kt_CO₂_equivalent.xlsx']\n",
      "/tmp/Time_Series_GHG_total_without_LULUCF_in_kt_CO₂_equivalent.xlsx\n",
      "2\n",
      "xls\n",
      "/tmp/Time_Series_GHG_total_without_LULUCF_in_kt_CO₂_equivalen\n",
      "<configparser.ConfigParser object at 0x7f0ad81d0e80>\n",
      "['0', '2']\n",
      "eval_components\n",
      "['Time Series - GHG total without LULUCF, in kt CO₂ equivalent']\n",
      "['Party', 'Base year', '1990', '1991', '1992', '1993', '1994', '1995', '1996', '1997', '1998', '1999', '2000', '2001', '2002', '2003', '2004', '2005', '2006', '2007', '2008', '2009', '2010', '2011', '2012', '2013', '2014', '2015', '2016', '2017', '2018', 'Last Inventory Year (2019)', 'Change from base year to latest reported year']\n",
      "Time Series - GHG total without LULUCF, in kt CO₂ equivalent\n",
      "52\n",
      "52\n",
      "list columns\n",
      "['country_iso_code', 'country_name', 'attribute', 'units', 'year', 'value']\n",
      "['country_iso_code', 'country_name', 'attribute', 'value_units', 'value', 'rec_source', 'data_provider', 'validity_date']\n",
      "<class 'pandas.core.frame.DataFrame'>\n",
      "RangeIndex: 1508 entries, 0 to 1507\n",
      "Data columns (total 8 columns):\n",
      " #   Column            Non-Null Count  Dtype  \n",
      "---  ------            --------------  -----  \n",
      " 0   rec_source        1508 non-null   string \n",
      " 1   data_provider     1508 non-null   string \n",
      " 2   country_name      1479 non-null   string \n",
      " 3   country_iso_code  1508 non-null   string \n",
      " 4   validity_date     1508 non-null   Int32  \n",
      " 5   attribute         1508 non-null   string \n",
      " 6   value             1305 non-null   Float64\n",
      " 7   value_units       1508 non-null   string \n",
      "dtypes: Float64(1), Int32(1), string(6)\n",
      "memory usage: 91.4 KB\n"
     ]
    }
   ],
   "source": [
    "import pandas as pd\n",
    "import ParseXLS as parser\n",
    "\n",
    "ticker_file = s3_source.Object(os.environ['S3_LANDING_BUCKET'],'PCAF-sovereign-footprint/UNFCC/Time_Series_GHG_total_without_LULUCF_in_kt_CO₂_equivalent.xlsx')\n",
    "ticker_file.download_file(f'/tmp/Time_Series_GHG_total_without_LULUCF_in_kt_CO₂_equivalent.xlsx')\n",
    "\n",
    "df = parser.process('UNFCCC_without_LULUCF.ini','UNFCCC_without_LULUCF.csv') \n",
    "#pd.to_numeric(df[\"validity_date\"],errors='raise')\n",
    "df=df.astype({'validity_date': 'int32'})\n",
    "df= df.convert_dtypes()\n",
    "df.info(verbose=True)\n",
    "df= df[['rec_source','data_provider','country_iso_code','country_name','validity_date','attribute','value','value_units']].dropna(subset=['value'])\n",
    "#df\n"
   ]
  },
  {
   "cell_type": "code",
   "execution_count": null,
   "id": "84aff2fd-aa22-47bd-9ec4-98acdf3867ed",
   "metadata": {},
   "outputs": [],
   "source": []
  },
  {
   "cell_type": "code",
   "execution_count": 11,
   "id": "ca3306d2-924f-472b-80d6-cdf86a91a22f",
   "metadata": {},
   "outputs": [
    {
     "name": "stdout",
     "output_type": "stream",
     "text": [
      "\n",
      "drop table if exists osc_datacommons_dev.pcaf_sovereign_footprint.sf_unfccc_without_lulucf\n",
      "\n",
      "[(True,)]\n"
     ]
    }
   ],
   "source": [
    "import osc_ingest_trino as osc\n",
    "columnschema = osc.create_table_schema_pairs(df) \n",
    "\n",
    "sql = f\"\"\"\n",
    "drop table if exists {ingest_catalog}.{ingest_schema}.{ingest_table}\n",
    "\"\"\"\n",
    "print(sql)\n",
    "qres = engine.execute(sql)\n",
    "print(qres.fetchall())\n"
   ]
  },
  {
   "cell_type": "code",
   "execution_count": 12,
   "id": "8e65e726-33c2-4821-8582-fddb4cd43f69",
   "metadata": {},
   "outputs": [
    {
     "name": "stdout",
     "output_type": "stream",
     "text": [
      "\n",
      "create table if not exists osc_datacommons_dev.pcaf_sovereign_footprint.sf_unfccc_without_lulucf(\n",
      "    rec_source varchar,\n",
      "    data_provider varchar,\n",
      "    country_iso_code varchar,\n",
      "    country_name varchar,\n",
      "    validity_date integer,\n",
      "    attribute varchar,\n",
      "    value double,\n",
      "    value_units varchar\n",
      ") with (\n",
      "    format = 'ORC',\n",
      "    partitioning = array['country_iso_code']\n",
      ")\n",
      "\n",
      "[(True,)]\n"
     ]
    }
   ],
   "source": [
    "tabledef = f\"\"\"\n",
    "create table if not exists {ingest_catalog}.{ingest_schema}.{ingest_table}(\n",
    "{columnschema}\n",
    ") with (\n",
    "    format = 'ORC',\n",
    "    partitioning = array['country_iso_code']\n",
    ")\n",
    "\"\"\"\n",
    "print(tabledef)\n",
    "qres = engine.execute(tabledef)\n",
    "print(qres.fetchall())"
   ]
  },
  {
   "cell_type": "code",
   "execution_count": 13,
   "id": "1b4f212a-533d-45c3-9314-309c067bf393",
   "metadata": {},
   "outputs": [
    {
     "name": "stdout",
     "output_type": "stream",
     "text": [
      "[(None,)]\n"
     ]
    }
   ],
   "source": [
    "# Delete all data from our db, so we start with empty table\n",
    "sql=f\"\"\"\n",
    "delete from {ingest_catalog}.{ingest_schema}.{ingest_table}\n",
    "\"\"\"\n",
    "qres = engine.execute(sql)\n",
    "print(qres.fetchall())"
   ]
  },
  {
   "cell_type": "code",
   "execution_count": 14,
   "id": "d78a282a-e16b-4e3d-9398-46a72eebf197",
   "metadata": {},
   "outputs": [
    {
     "data": {
      "text/html": [
       "<div>\n",
       "<style scoped>\n",
       "    .dataframe tbody tr th:only-of-type {\n",
       "        vertical-align: middle;\n",
       "    }\n",
       "\n",
       "    .dataframe tbody tr th {\n",
       "        vertical-align: top;\n",
       "    }\n",
       "\n",
       "    .dataframe thead th {\n",
       "        text-align: right;\n",
       "    }\n",
       "</style>\n",
       "<table border=\"1\" class=\"dataframe\">\n",
       "  <thead>\n",
       "    <tr style=\"text-align: right;\">\n",
       "      <th></th>\n",
       "      <th>rec_source</th>\n",
       "      <th>data_provider</th>\n",
       "      <th>country_iso_code</th>\n",
       "      <th>country_name</th>\n",
       "      <th>validity_date</th>\n",
       "      <th>attribute</th>\n",
       "      <th>value</th>\n",
       "      <th>value_units</th>\n",
       "    </tr>\n",
       "  </thead>\n",
       "  <tbody>\n",
       "  </tbody>\n",
       "</table>\n",
       "</div>"
      ],
      "text/plain": [
       "Empty DataFrame\n",
       "Columns: [rec_source, data_provider, country_iso_code, country_name, validity_date, attribute, value, value_units]\n",
       "Index: []"
      ]
     },
     "execution_count": 14,
     "metadata": {},
     "output_type": "execute_result"
    }
   ],
   "source": [
    "sql=f\"\"\"\n",
    "select * from {ingest_catalog}.{ingest_schema}.{ingest_table}\n",
    "\"\"\"\n",
    "pd.read_sql(sql, engine)\n"
   ]
  },
  {
   "cell_type": "code",
   "execution_count": 15,
   "id": "8c51c0c2-1f5a-44c2-82c0-e6f397d8bbc2",
   "metadata": {},
   "outputs": [
    {
     "name": "stdout",
     "output_type": "stream",
     "text": [
      "osc_datacommons_dev\n",
      "constructed fully qualified table name as: \"pcaf_sovereign_footprint.sf_unfccc_without_lulucf\"\n",
      "inserting 1000 records\n",
      "  ('Time_Series_GHG_total_without_LULUCF_in_kt_CO₂_equivalent.xlsx', 'UNFCCC', 'AUS', 'Australia', 1990, 'Time Series - GHG total without LULUCF, in kt CO₂ equivalent', 423672.2245458623, 'kt CO2e')\n",
      "  ('Time_Series_GHG_total_without_LULUCF_in_kt_CO₂_equivalent.xlsx', 'UNFCCC', 'AUT', 'Austria', 1990, 'Time Series - GHG total without LULUCF, in kt CO₂ equivalent', 78420.48531347305, 'kt CO2e')\n",
      "  ('Time_Series_GHG_total_without_LULUCF_in_kt_CO₂_equivalent.xlsx', 'UNFCCC', 'BLR', 'Belarus', 1990, 'Time Series - GHG total without LULUCF, in kt CO₂ equivalent', 139151.98563558093, 'kt CO2e')\n",
      "  ...\n",
      "  ('Time_Series_GHG_total_without_LULUCF_in_kt_CO₂_equivalent.xlsx', 'UNFCCC', 'DNK', 'Denmark', 2012, 'Time Series - GHG total without LULUCF, in kt CO₂ equivalent', 54837.68373855551, 'kt CO2e')\n",
      "batch insert result: [(1000,)]\n",
      "inserting 305 records\n",
      "  ('Time_Series_GHG_total_without_LULUCF_in_kt_CO₂_equivalent.xlsx', 'UNFCCC', 'EST', 'Estonia', 2012, 'Time Series - GHG total without LULUCF, in kt CO₂ equivalent', 20114.881570425645, 'kt CO2e')\n",
      "  ('Time_Series_GHG_total_without_LULUCF_in_kt_CO₂_equivalent.xlsx', 'UNFCCC', 'not found', 'European Union (Convention)', 2012, 'Time Series - GHG total without LULUCF, in kt CO₂ equivalent', 4568546.267179368, 'kt CO2e')\n",
      "  ('Time_Series_GHG_total_without_LULUCF_in_kt_CO₂_equivalent.xlsx', 'UNFCCC', 'not found', 'European Union (KP)', 2012, 'Time Series - GHG total without LULUCF, in kt CO₂ equivalent', 4576233.88239931, 'kt CO2e')\n",
      "  ...\n",
      "  ('Time_Series_GHG_total_without_LULUCF_in_kt_CO₂_equivalent.xlsx', 'UNFCCC', 'USA', 'United States of America', 2018, 'Time Series - GHG total without LULUCF, in kt CO₂ equivalent', 6671449.400774597, 'kt CO2e')\n",
      "batch insert result: [(305,)]\n"
     ]
    }
   ],
   "source": [
    "print(ingest_catalog)\n",
    "#df=df.drop(df[df.country_name==\"cote d'ivoire\"].index)\n",
    "df.to_sql(ingest_table,\n",
    "           con=engine,\n",
    "           schema=ingest_schema,\n",
    "           if_exists='append',\n",
    "           index=False,\n",
    "           method=osc.TrinoBatchInsert(batch_size = 1000, verbose = True))"
   ]
  },
  {
   "cell_type": "code",
   "execution_count": 16,
   "id": "080e8a85-785d-4f52-97f6-0573e7d08b61",
   "metadata": {},
   "outputs": [
    {
     "data": {
      "text/html": [
       "<div>\n",
       "<style scoped>\n",
       "    .dataframe tbody tr th:only-of-type {\n",
       "        vertical-align: middle;\n",
       "    }\n",
       "\n",
       "    .dataframe tbody tr th {\n",
       "        vertical-align: top;\n",
       "    }\n",
       "\n",
       "    .dataframe thead th {\n",
       "        text-align: right;\n",
       "    }\n",
       "</style>\n",
       "<table border=\"1\" class=\"dataframe\">\n",
       "  <thead>\n",
       "    <tr style=\"text-align: right;\">\n",
       "      <th></th>\n",
       "      <th>rec_source</th>\n",
       "      <th>data_provider</th>\n",
       "      <th>country_iso_code</th>\n",
       "      <th>country_name</th>\n",
       "      <th>validity_date</th>\n",
       "      <th>attribute</th>\n",
       "      <th>value</th>\n",
       "      <th>value_units</th>\n",
       "    </tr>\n",
       "  </thead>\n",
       "  <tbody>\n",
       "    <tr>\n",
       "      <th>0</th>\n",
       "      <td>Time_Series_GHG_total_without_LULUCF_in_kt_CO₂...</td>\n",
       "      <td>UNFCCC</td>\n",
       "      <td>ISL</td>\n",
       "      <td>Iceland</td>\n",
       "      <td>1990</td>\n",
       "      <td>Time Series - GHG total without LULUCF, in kt ...</td>\n",
       "      <td>3682.903603</td>\n",
       "      <td>kt CO2e</td>\n",
       "    </tr>\n",
       "    <tr>\n",
       "      <th>1</th>\n",
       "      <td>Time_Series_GHG_total_without_LULUCF_in_kt_CO₂...</td>\n",
       "      <td>UNFCCC</td>\n",
       "      <td>ISL</td>\n",
       "      <td>Iceland</td>\n",
       "      <td>1991</td>\n",
       "      <td>Time Series - GHG total without LULUCF, in kt ...</td>\n",
       "      <td>3466.165618</td>\n",
       "      <td>kt CO2e</td>\n",
       "    </tr>\n",
       "    <tr>\n",
       "      <th>2</th>\n",
       "      <td>Time_Series_GHG_total_without_LULUCF_in_kt_CO₂...</td>\n",
       "      <td>UNFCCC</td>\n",
       "      <td>ISL</td>\n",
       "      <td>Iceland</td>\n",
       "      <td>1992</td>\n",
       "      <td>Time Series - GHG total without LULUCF, in kt ...</td>\n",
       "      <td>3380.967651</td>\n",
       "      <td>kt CO2e</td>\n",
       "    </tr>\n",
       "    <tr>\n",
       "      <th>3</th>\n",
       "      <td>Time_Series_GHG_total_without_LULUCF_in_kt_CO₂...</td>\n",
       "      <td>UNFCCC</td>\n",
       "      <td>ISL</td>\n",
       "      <td>Iceland</td>\n",
       "      <td>1993</td>\n",
       "      <td>Time Series - GHG total without LULUCF, in kt ...</td>\n",
       "      <td>3466.098906</td>\n",
       "      <td>kt CO2e</td>\n",
       "    </tr>\n",
       "    <tr>\n",
       "      <th>4</th>\n",
       "      <td>Time_Series_GHG_total_without_LULUCF_in_kt_CO₂...</td>\n",
       "      <td>UNFCCC</td>\n",
       "      <td>ISL</td>\n",
       "      <td>Iceland</td>\n",
       "      <td>1994</td>\n",
       "      <td>Time Series - GHG total without LULUCF, in kt ...</td>\n",
       "      <td>3398.241182</td>\n",
       "      <td>kt CO2e</td>\n",
       "    </tr>\n",
       "    <tr>\n",
       "      <th>...</th>\n",
       "      <td>...</td>\n",
       "      <td>...</td>\n",
       "      <td>...</td>\n",
       "      <td>...</td>\n",
       "      <td>...</td>\n",
       "      <td>...</td>\n",
       "      <td>...</td>\n",
       "      <td>...</td>\n",
       "    </tr>\n",
       "    <tr>\n",
       "      <th>1300</th>\n",
       "      <td>Time_Series_GHG_total_without_LULUCF_in_kt_CO₂...</td>\n",
       "      <td>UNFCCC</td>\n",
       "      <td>HRV</td>\n",
       "      <td>Croatia</td>\n",
       "      <td>2014</td>\n",
       "      <td>Time Series - GHG total without LULUCF, in kt ...</td>\n",
       "      <td>23475.539442</td>\n",
       "      <td>kt CO2e</td>\n",
       "    </tr>\n",
       "    <tr>\n",
       "      <th>1301</th>\n",
       "      <td>Time_Series_GHG_total_without_LULUCF_in_kt_CO₂...</td>\n",
       "      <td>UNFCCC</td>\n",
       "      <td>HRV</td>\n",
       "      <td>Croatia</td>\n",
       "      <td>2015</td>\n",
       "      <td>Time Series - GHG total without LULUCF, in kt ...</td>\n",
       "      <td>23911.919576</td>\n",
       "      <td>kt CO2e</td>\n",
       "    </tr>\n",
       "    <tr>\n",
       "      <th>1302</th>\n",
       "      <td>Time_Series_GHG_total_without_LULUCF_in_kt_CO₂...</td>\n",
       "      <td>UNFCCC</td>\n",
       "      <td>HRV</td>\n",
       "      <td>Croatia</td>\n",
       "      <td>2016</td>\n",
       "      <td>Time Series - GHG total without LULUCF, in kt ...</td>\n",
       "      <td>23999.917562</td>\n",
       "      <td>kt CO2e</td>\n",
       "    </tr>\n",
       "    <tr>\n",
       "      <th>1303</th>\n",
       "      <td>Time_Series_GHG_total_without_LULUCF_in_kt_CO₂...</td>\n",
       "      <td>UNFCCC</td>\n",
       "      <td>HRV</td>\n",
       "      <td>Croatia</td>\n",
       "      <td>2017</td>\n",
       "      <td>Time Series - GHG total without LULUCF, in kt ...</td>\n",
       "      <td>24737.559107</td>\n",
       "      <td>kt CO2e</td>\n",
       "    </tr>\n",
       "    <tr>\n",
       "      <th>1304</th>\n",
       "      <td>Time_Series_GHG_total_without_LULUCF_in_kt_CO₂...</td>\n",
       "      <td>UNFCCC</td>\n",
       "      <td>HRV</td>\n",
       "      <td>Croatia</td>\n",
       "      <td>2018</td>\n",
       "      <td>Time Series - GHG total without LULUCF, in kt ...</td>\n",
       "      <td>23536.283130</td>\n",
       "      <td>kt CO2e</td>\n",
       "    </tr>\n",
       "  </tbody>\n",
       "</table>\n",
       "<p>1305 rows × 8 columns</p>\n",
       "</div>"
      ],
      "text/plain": [
       "                                             rec_source data_provider  \\\n",
       "0     Time_Series_GHG_total_without_LULUCF_in_kt_CO₂...        UNFCCC   \n",
       "1     Time_Series_GHG_total_without_LULUCF_in_kt_CO₂...        UNFCCC   \n",
       "2     Time_Series_GHG_total_without_LULUCF_in_kt_CO₂...        UNFCCC   \n",
       "3     Time_Series_GHG_total_without_LULUCF_in_kt_CO₂...        UNFCCC   \n",
       "4     Time_Series_GHG_total_without_LULUCF_in_kt_CO₂...        UNFCCC   \n",
       "...                                                 ...           ...   \n",
       "1300  Time_Series_GHG_total_without_LULUCF_in_kt_CO₂...        UNFCCC   \n",
       "1301  Time_Series_GHG_total_without_LULUCF_in_kt_CO₂...        UNFCCC   \n",
       "1302  Time_Series_GHG_total_without_LULUCF_in_kt_CO₂...        UNFCCC   \n",
       "1303  Time_Series_GHG_total_without_LULUCF_in_kt_CO₂...        UNFCCC   \n",
       "1304  Time_Series_GHG_total_without_LULUCF_in_kt_CO₂...        UNFCCC   \n",
       "\n",
       "     country_iso_code country_name  validity_date  \\\n",
       "0                 ISL      Iceland           1990   \n",
       "1                 ISL      Iceland           1991   \n",
       "2                 ISL      Iceland           1992   \n",
       "3                 ISL      Iceland           1993   \n",
       "4                 ISL      Iceland           1994   \n",
       "...               ...          ...            ...   \n",
       "1300              HRV      Croatia           2014   \n",
       "1301              HRV      Croatia           2015   \n",
       "1302              HRV      Croatia           2016   \n",
       "1303              HRV      Croatia           2017   \n",
       "1304              HRV      Croatia           2018   \n",
       "\n",
       "                                              attribute         value  \\\n",
       "0     Time Series - GHG total without LULUCF, in kt ...   3682.903603   \n",
       "1     Time Series - GHG total without LULUCF, in kt ...   3466.165618   \n",
       "2     Time Series - GHG total without LULUCF, in kt ...   3380.967651   \n",
       "3     Time Series - GHG total without LULUCF, in kt ...   3466.098906   \n",
       "4     Time Series - GHG total without LULUCF, in kt ...   3398.241182   \n",
       "...                                                 ...           ...   \n",
       "1300  Time Series - GHG total without LULUCF, in kt ...  23475.539442   \n",
       "1301  Time Series - GHG total without LULUCF, in kt ...  23911.919576   \n",
       "1302  Time Series - GHG total without LULUCF, in kt ...  23999.917562   \n",
       "1303  Time Series - GHG total without LULUCF, in kt ...  24737.559107   \n",
       "1304  Time Series - GHG total without LULUCF, in kt ...  23536.283130   \n",
       "\n",
       "     value_units  \n",
       "0        kt CO2e  \n",
       "1        kt CO2e  \n",
       "2        kt CO2e  \n",
       "3        kt CO2e  \n",
       "4        kt CO2e  \n",
       "...          ...  \n",
       "1300     kt CO2e  \n",
       "1301     kt CO2e  \n",
       "1302     kt CO2e  \n",
       "1303     kt CO2e  \n",
       "1304     kt CO2e  \n",
       "\n",
       "[1305 rows x 8 columns]"
      ]
     },
     "execution_count": 16,
     "metadata": {},
     "output_type": "execute_result"
    }
   ],
   "source": [
    "sql=f\"\"\"\n",
    "select * from {ingest_catalog}.{ingest_schema}.{ingest_table}\"\"\"\n",
    "pd.read_sql(sql, engine)\n"
   ]
  },
  {
   "cell_type": "code",
   "execution_count": null,
   "id": "91781e62-2cbc-4a05-929c-17772c4c1404",
   "metadata": {},
   "outputs": [],
   "source": []
  },
  {
   "cell_type": "code",
   "execution_count": null,
   "id": "74d45044-1ea2-419a-aa71-32af9cf9b7ee",
   "metadata": {},
   "outputs": [],
   "source": []
  },
  {
   "cell_type": "code",
   "execution_count": null,
   "id": "aea4e66d-eef4-492a-8ace-ca760940708b",
   "metadata": {},
   "outputs": [],
   "source": []
  }
 ],
 "metadata": {
  "kernelspec": {
   "display_name": "Python 3 (ipykernel)",
   "language": "python",
   "name": "python3"
  },
  "language_info": {
   "codemirror_mode": {
    "name": "ipython",
    "version": 3
   },
   "file_extension": ".py",
   "mimetype": "text/x-python",
   "name": "python",
   "nbconvert_exporter": "python",
   "pygments_lexer": "ipython3",
   "version": "3.8.8"
  }
 },
 "nbformat": 4,
 "nbformat_minor": 5
}
