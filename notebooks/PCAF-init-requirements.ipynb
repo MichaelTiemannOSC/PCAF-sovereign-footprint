{
 "cells": [
  {
   "cell_type": "code",
   "execution_count": null,
   "id": "7d24682c-3006-4ade-a36f-b0a6002becca",
   "metadata": {},
   "outputs": [],
   "source": [
    "\n",
    "# 'capture' magic prevents long outputs from spamming your notebook\n",
    "#%%capture pipoutput\n",
    "%pip install xlwt\n",
    "%pip install matplotlib\n",
    "%pip install pycountry\n",
    "# For loading predefined environment variables from files\n",
    "# Typically used to load sensitive access credentials\n",
    "%pip install python-dotenv\n",
    "\n",
    "# Standard python package for interacting with S3 buckets\n",
    "%pip install boto3\n",
    "\n",
    "# Interacting with Trino and using Trino with sqlalchemy\n",
    "%pip install trino sqlalchemy sqlalchemy-trino\n",
    "\n",
    "# Pandas and parquet file i/o\n",
    "%pip install pandas pyarrow fastparquet\n",
    "\n",
    "# OS-Climate utilities to make data ingest easier\n",
    "%pip install osc-ingest-tools\n",
    "%pip install openpyxl\n",
    "%pip install country_converter\n",
    "%pip install pint_pandas\n",
    "%pip install openscm_units\n"
   ]
  },
  {
   "cell_type": "code",
   "execution_count": 5,
   "id": "dc41d7e0-c36b-4f55-ad22-5a064dc9e685",
   "metadata": {},
   "outputs": [
    {
     "name": "stderr",
     "output_type": "stream",
     "text": [
      "2022-08-25 07:04:54,435 [461] WARNING  pint.util: Redefining 'C' (<class 'pint.definitions.UnitDefinition'>)\n",
      "2022-08-25 07:04:54,440 [461] WARNING  pint.util: Redefining 'N' (<class 'pint.definitions.UnitDefinition'>)\n",
      "2022-08-25 07:04:54,443 [461] WARNING  pint.util: Redefining 'NOX' (<class 'pint.definitions.UnitDefinition'>)\n",
      "2022-08-25 07:04:54,443 [461] WARNING  pint.util: Redefining 'gNOX' (<class 'pint.definitions.UnitDefinition'>)\n",
      "2022-08-25 07:04:54,444 [461] WARNING  pint.util: Redefining 'tNOX' (<class 'pint.definitions.UnitDefinition'>)\n",
      "2022-08-25 07:04:54,446 [461] WARNING  pint.util: Redefining 'S' (<class 'pint.definitions.UnitDefinition'>)\n",
      "2022-08-25 07:04:54,649 [461] WARNING  pint.util: Redefining 'a' (<class 'pint.definitions.UnitDefinition'>)\n",
      "2022-08-25 07:04:54,650 [461] WARNING  pint.util: Redefining 'yr' (<class 'pint.definitions.UnitDefinition'>)\n",
      "2022-08-25 07:04:54,650 [461] WARNING  pint.util: Redefining 'h' (<class 'pint.definitions.UnitDefinition'>)\n",
      "2022-08-25 07:04:54,651 [461] WARNING  pint.util: Redefining 'd' (<class 'pint.definitions.UnitDefinition'>)\n",
      "2022-08-25 07:04:54,652 [461] WARNING  pint.util: Redefining 'degreeC' (<class 'pint.definitions.UnitDefinition'>)\n",
      "2022-08-25 07:04:54,653 [461] WARNING  pint.util: Redefining 'degreeF' (<class 'pint.definitions.UnitDefinition'>)\n",
      "2022-08-25 07:04:54,654 [461] WARNING  pint.util: Redefining 'kt' (<class 'pint.definitions.UnitDefinition'>)\n",
      "2022-08-25 07:04:54,655 [461] WARNING  pint.util: Redefining 'Tt' (<class 'pint.definitions.UnitDefinition'>)\n"
     ]
    }
   ],
   "source": [
    "import pandas as pd\n",
    "from openscm_units import unit_registry\n",
    "from pint import set_application_registry, Quantity\n",
    "from pint_pandas import PintArray, PintType\n",
    "# First we create the registry.\n",
    "ureg = unit_registry\n",
    "Q_ = ureg.Quantity\n",
    "ureg.default_format = '~'\n",
    "ureg.define(\"CO2e = CO2 = CO2eq\")\n",
    "ureg.define(\"USD = [currency] \")\n",
    "ureg.define(\"EUR = [currency_EUR] \")\n",
    "ureg.define('Millions=1000000')\n",
    "set_application_registry(ureg)"
   ]
  },
  {
   "cell_type": "code",
   "execution_count": null,
   "id": "e44fa75d-6d0b-4a42-ac66-ae5c67ee13b9",
   "metadata": {},
   "outputs": [],
   "source": []
  }
 ],
 "metadata": {
  "kernelspec": {
   "display_name": "Python 3 (ipykernel)",
   "language": "python",
   "name": "python3"
  },
  "language_info": {
   "codemirror_mode": {
    "name": "ipython",
    "version": 3
   },
   "file_extension": ".py",
   "mimetype": "text/x-python",
   "name": "python",
   "nbconvert_exporter": "python",
   "pygments_lexer": "ipython3",
   "version": "3.8.8"
  }
 },
 "nbformat": 4,
 "nbformat_minor": 5
}
